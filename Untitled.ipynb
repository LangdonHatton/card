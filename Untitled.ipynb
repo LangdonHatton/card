{
 "cells": [
  {
   "cell_type": "code",
   "execution_count": 1,
   "id": "32dcacd0",
   "metadata": {},
   "outputs": [
    {
     "name": "stdout",
     "output_type": "stream",
     "text": [
      "Requirement already satisfied: pygame in c:\\users\\dixies pc customs\\anaconda3\\lib\\site-packages (2.1.2)\n",
      "Note: you may need to restart the kernel to use updated packages.\n"
     ]
    }
   ],
   "source": [
    "pip install pygame"
   ]
  },
  {
   "cell_type": "code",
   "execution_count": 2,
   "id": "64c0747e",
   "metadata": {},
   "outputs": [
    {
     "name": "stdout",
     "output_type": "stream",
     "text": [
      "pygame 2.1.2 (SDL 2.0.18, Python 3.9.12)\n",
      "Hello from the pygame community. https://www.pygame.org/contribute.html\n"
     ]
    }
   ],
   "source": [
    "import pygame"
   ]
  },
  {
   "cell_type": "code",
   "execution_count": null,
   "id": "9485faec",
   "metadata": {},
   "outputs": [
    {
     "name": "stdout",
     "output_type": "stream",
     "text": [
      "Press 'e' to exit the program\n",
      "  e\n"
     ]
    }
   ],
   "source": [
    "import pygame\n",
    "from pygame import mixer\n",
    "mixer.init()\n",
    "mixer.music.load('song.mp3')\n",
    "mixer.music.play()\n",
    "pygame.init()\n",
    "X = 500\n",
    "Y =260\n",
    "BLACK=(0,0,0)\n",
    "\n",
    "\n",
    "scrn = pygame.display.set_mode((X, Y))\n",
    "font = pygame.font.Font('freesansbold.ttf', 32)\n",
    "text = font.render('Merry Christmas', True, BLACK)\n",
    "\n",
    "pygame.display.set_caption('image')\n",
    "img = pygame.image.load('c1.jpg').convert()\n",
    "textsurface = font.render((\"Merry Christmas\"), True, BLACK)\n",
    "\n",
    "scrn.blit(img, (0, 0))\n",
    "scrn.blit(textsurface, (100,100))\n",
    "\n",
    "\n",
    " \n",
    "\n",
    "pygame.display.flip()\n",
    "active = True\n",
    "while (active):\n",
    " \n",
    "    \n",
    "    \n",
    "       \n",
    "    for i in pygame.event.get():\n",
    "   \n",
    "      \n",
    "   \n",
    " \n",
    "        if i.type == pygame.QUIT:\n",
    "            active = False\n",
    "    print(\"Press 'e' to exit the program\")\n",
    "    query = input(\"  \")\n",
    "      \n",
    "    if query == 'e':\n",
    "  \n",
    "\n",
    "        mixer.music.stop()\n",
    "        break\n",
    "    \n",
    "\n",
    "pygame.quit()\n",
    "    "
   ]
  },
  {
   "cell_type": "code",
   "execution_count": null,
   "id": "15b5349e",
   "metadata": {},
   "outputs": [],
   "source": []
  },
  {
   "cell_type": "code",
   "execution_count": null,
   "id": "67b9a60c",
   "metadata": {},
   "outputs": [],
   "source": []
  },
  {
   "cell_type": "code",
   "execution_count": null,
   "id": "68847163",
   "metadata": {},
   "outputs": [],
   "source": []
  },
  {
   "cell_type": "code",
   "execution_count": null,
   "id": "24a4dec0",
   "metadata": {},
   "outputs": [],
   "source": []
  },
  {
   "cell_type": "code",
   "execution_count": null,
   "id": "484729f3",
   "metadata": {},
   "outputs": [],
   "source": []
  },
  {
   "cell_type": "code",
   "execution_count": null,
   "id": "53068967",
   "metadata": {},
   "outputs": [],
   "source": []
  },
  {
   "cell_type": "code",
   "execution_count": null,
   "id": "283b2894",
   "metadata": {},
   "outputs": [],
   "source": []
  },
  {
   "cell_type": "code",
   "execution_count": null,
   "id": "45df8cd0",
   "metadata": {},
   "outputs": [],
   "source": []
  },
  {
   "cell_type": "code",
   "execution_count": null,
   "id": "ca3c9386",
   "metadata": {},
   "outputs": [],
   "source": []
  }
 ],
 "metadata": {
  "kernelspec": {
   "display_name": "Python 3 (ipykernel)",
   "language": "python",
   "name": "python3"
  },
  "language_info": {
   "codemirror_mode": {
    "name": "ipython",
    "version": 3
   },
   "file_extension": ".py",
   "mimetype": "text/x-python",
   "name": "python",
   "nbconvert_exporter": "python",
   "pygments_lexer": "ipython3",
   "version": "3.9.12"
  }
 },
 "nbformat": 4,
 "nbformat_minor": 5
}
